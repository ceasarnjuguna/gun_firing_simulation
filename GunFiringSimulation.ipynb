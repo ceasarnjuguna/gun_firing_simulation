{
  "cells": [
    {
      "cell_type": "markdown",
      "metadata": {
        "id": "view-in-github",
        "colab_type": "text"
      },
      "source": [
        "<a href=\"https://colab.research.google.com/github/ceasarnjuguna/gun_firing_simulation/blob/master/GunFiringSimulation.ipynb\" target=\"_parent\"><img src=\"https://colab.research.google.com/assets/colab-badge.svg\" alt=\"Open In Colab\"/></a>"
      ]
    },
    {
      "cell_type": "markdown",
      "metadata": {
        "id": "RcGAvhL1TY8o"
      },
      "source": [
        "# 1. PROBLEM FORMULATION\n",
        "\n",
        "The problem is to design and implement a simulation that can accurately model a bullet's trajectory and calculate its impact force on a target given varying conditions such as different firing angles, wind speeds, and target distances. The simulation should take into account the effects of gravity, air resistance, and wind.\n",
        "\n",
        "The output of this simulation should provide insights into how changes in these parameters affect the bullet's trajectory and the force it impacts the target with. These results should then be visualized to help in understanding the dynamics involved in projectile motion under the aforementioned conditions.\n",
        "\n"
      ]
    },
    {
      "cell_type": "markdown",
      "metadata": {
        "id": "0FDGj0C6TY8r"
      },
      "source": [
        "# 2. OBJECTIVES AND OVERALL PROJECT PLAN\n",
        "\n",
        "## 2.1 Objectives/ Questions to be answered by system\n",
        "\n",
        "1. To simulate the trajectory of a bullet considering factors like the firing angle, wind speed, bullet properties, and the effect of gravity and air resistance.\n",
        "\n",
        "2. To calculate the impact force of the bullet on the target under various firing angles, wind speeds, and target distances.\n",
        "\n",
        "3. To understand how changes in firing angle, wind speed, and target distance affect the trajectory of the bullet and its impact force.\n",
        "\n",
        "4. To create a visual representation of the bullet's trajectory under different conditions, aiding in the understanding of the dynamics of projectile motion.\n",
        "\n",
        "  ### 2.2 Project team\n",
        "\n",
        "The group doing this study involved the following;\n",
        "\n",
        "- Shirley Mbeyu Ddaiddo\n",
        "\n",
        "- Allan Errissat Okedo\n",
        "\n",
        "- Marion Cheruyotich Kipsang\n",
        "\n",
        "- Ceaser Njuguna Ngunu\n",
        "\n",
        "- Ashley Mbeke Muoki\n",
        "\n",
        "\n"
      ]
    },
    {
      "cell_type": "markdown",
      "source": [
        "# 3. MODEL CONCEPTUALIZATION\n",
        "\n",
        "In this section, we will provide an overview of the conceptual model behind the gun simulation. We will describe the key components and variables involved in the simulation and outline the assumptions made to simplify the model.\n",
        "\n",
        "### 3.1 Projectile Motion Model\n",
        "\n",
        "The following are the equations used to calculate the trajectory of the fired bullet, taking into account the initial velocity, launch angle, and the effects of gravity."
      ],
      "metadata": {
        "id": "7diToDbWTVrV"
      }
    },
    {
      "cell_type": "markdown",
      "source": [
        "$$ \\frac{{dx}}{{dt}} = v \\cdot \\cos(\\theta) + ω $$"
      ],
      "metadata": {
        "id": "RVwYGjePTbhd"
      }
    },
    {
      "cell_type": "markdown",
      "source": [
        "where $\\omega$ is the wind effect."
      ],
      "metadata": {
        "id": "7whdFzbeTjcS"
      }
    },
    {
      "cell_type": "markdown",
      "source": [
        "  $$ \\frac{dy}{dt} = v ⋅ \\sin(\\theta) $$"
      ],
      "metadata": {
        "id": "mvsgW2wbTr8c"
      }
    },
    {
      "cell_type": "markdown",
      "source": [
        "$$ \\frac{{dv}}{{dt}} = -g \\cdot \\sin(\\theta) - \\frac{{0.5 \\cdot \\text{(air_density)} \\cdot v^2 \\cdot \\text{(bullet_drag_coefficient)} \\cdot \\text{(bullet_area)}}}{{\\text{(bullet_mass})}} $$"
      ],
      "metadata": {
        "id": "Pf6ND9E4T5wl"
      }
    },
    {
      "cell_type": "markdown",
      "source": [
        "$$ \\frac{{d\\theta}}{{dt}} = -\\frac{{g \\cdot \\cos(\\theta)}}{{v}} $$"
      ],
      "metadata": {
        "id": "XenrtuNAT_DA"
      }
    },
    {
      "cell_type": "markdown",
      "metadata": {
        "id": "J5yr2fxZTY8s"
      },
      "source": [
        "### 3.2 Assumptions\n",
        "a) Newtonian Physics: The model assumes Newtonian physics applies, which is a reasonable assumption for bullet trajectories at non-relativistic speeds.\n",
        "\n",
        "b) Air Resistance: The model assumes that air resistance acts on the bullet. This is modelled as being proportional to the velocity of the bullet, which is a simplification. In reality, air resistance is a complex function of the speed, shape, and spin of the bullet, as well as atmospheric conditions.\n",
        "\n",
        "c) Constant Wind Speed: The model takes a constant wind speed as input. In reality, wind speed can vary greatly over the trajectory of a bullet, both in magnitude and direction.\n",
        "\n",
        "d) Gravity: The model assumes a constant gravitational acceleration. In reality, the force of gravity decreases slightly as the distance from the Earth's center increases, but this effect is negligible for the ranges at which bullets are typically fired.\n",
        "\n",
        "e) Flat Earth: The model does not take into account the curvature of the Earth. For most practical purposes, this is an acceptable simplification, but for long-range ballistics, the Coriolis effect due to the rotation of the Earth can become significant.\n",
        "\n",
        "f) No Bullet Spin: The model doesn't account for the gyroscopic effects caused by the spin of the bullet (rifling), which can stabilize the bullet and affect its trajectory.\n",
        "\n",
        "g) Initial Conditions: The model assumes the initial position, velocity, and angle of the bullet are known and fixed.\n"
      ]
    },
    {
      "cell_type": "markdown",
      "metadata": {
        "id": "I4Un1jBFTY8s"
      },
      "source": [
        "# 4. DATA COLLECTION\n",
        "\n",
        "Data is being generated within the system"
      ]
    },
    {
      "cell_type": "markdown",
      "metadata": {
        "id": "j1elKWNxTY8t"
      },
      "source": [
        "# 5. MODEL TRANSLATION\n",
        "\n",
        "This simulation is using python programming language and its related libraries as follows;"
      ]
    },
    {
      "cell_type": "code",
      "execution_count": null,
      "metadata": {
        "id": "rgdcl8x05ceT"
      },
      "outputs": [],
      "source": [
        "import numpy as np\n",
        "import math\n",
        "import matplotlib.pyplot as plt\n",
        "import json\n"
      ]
    },
    {
      "cell_type": "markdown",
      "source": [
        "The simulation model above can be translated into mathematical language as follows:\n",
        "\n",
        "1. The position of the bullet is represented by coordinates (x, y), with x being the horizontal distance and y being the vertical distance.\n",
        "\n",
        "2. The bullet is fired at an initial velocity, v, and an angle, θ, from the horizontal.\n",
        "\n",
        "3. The bullet experiences gravity, which is a constant force acting downwards. This is represented by g, which is approximated as 9.81 m/s^2.\n",
        "\n",
        "4. The bullet also experiences air resistance, which is proportional to the square of its velocity and acts in the opposite direction of the bullet's motion. This is calculated using the drag equation:\n",
        "\n",
        " D = 0.5 * air_density * v^2 * bullet_drag_coefficient * bullet_area\n",
        "\n",
        "5. Wind speed is taken into account, affecting the horizontal velocity of the bullet. The wind's effect is computed as the wind speed times the cosine of the difference between the wind direction and the bullet's direction of motion.\n",
        "\n",
        "6. The model employs the Runge-Kutta method, a numerical integration technique, to solve the system of differential equations that describe the motion of the bullet:\n",
        "\n",
        " dx/dt = v * cos(θ) + wind_effect\n",
        "\n",
        " dy/dt = v * sin(θ)\n",
        "\n",
        " dv/dt = -g * sin(θ) - D / bullet_mass\n",
        "\n",
        " dθ/dt = -g * cos(θ) / v\n",
        "\n",
        " where dx/dt and dy/dt represent the bullet's horizontal and vertical velocities, dv/dt is the rate of change of the bullet's speed, and dθ/dt is the rate of change of the bullet's direction of motion.\n",
        "\n",
        "7. The Runge-Kutta method involves updating the variables x, y, v, and θ in small increments of time, dt, and computing the average rate of change over each time increment to approximate the continuous changes in these variables.\n",
        "\n",
        "8. When the bullet's y-coordinate reaches zero, it's considered to have hit the ground. If the x-coordinate at this time is within the size of the target, it's considered to have hit the target.\n",
        "\n",
        "9. The impact force on the target is calculated using Newton's second law, F = Δp / Δt, where Δp is the change in the bullet's momentum and Δt is a small increment of time.\n",
        "\n",
        "10. The model is run for different values of firing angle, wind speed, and target distance, and the results are stored and later filtered based on the impact force.\n",
        "\n"
      ],
      "metadata": {
        "id": "EAdsBMskhH8e"
      }
    },
    {
      "cell_type": "markdown",
      "metadata": {
        "id": "FVY_wApOTY8u"
      },
      "source": [
        "# 6. VERIFICATION\n",
        "Checking whether input parameters and logical structures are correctly represented\n"
      ]
    },
    {
      "cell_type": "markdown",
      "metadata": {
        "id": "qOmYjgEITY8u"
      },
      "source": [
        "a) Constants;\n",
        "\n",
        "Acceleration due to gravity (m/s^2) and air density at sea level and 15 degrees Celsius (kg/m^3)"
      ]
    },
    {
      "cell_type": "code",
      "execution_count": null,
      "metadata": {
        "id": "3SDPEqsenSLf"
      },
      "outputs": [],
      "source": [
        "g = 9.81\n",
        "air_density = 1.225"
      ]
    },
    {
      "cell_type": "markdown",
      "metadata": {
        "id": "iLq6K9SZTY8v"
      },
      "source": [
        "b) Gun and bullet properties;\n",
        "\n",
        "Height of the gun (m), initial speed of the bullet (m/s), mass of the bullet (kg), diameter of the bullet (m) and drag coefficient of the bullet (dimensionless). Finally, bullet's cross-sectional area is calculated."
      ]
    },
    {
      "cell_type": "code",
      "execution_count": null,
      "metadata": {
        "id": "vvP5nDNankxU"
      },
      "outputs": [],
      "source": [
        "gun_height = 1\n",
        "initial_bullet_velocity = 350\n",
        "bullet_mass = 0.007\n",
        "bullet_diameter = 0.009\n",
        "bullet_drag_coefficient = 0.05\n",
        "bullet_area = math.pi * (bullet_diameter / 2)**2"
      ]
    },
    {
      "cell_type": "markdown",
      "metadata": {
        "id": "Se5oFSshTY8w"
      },
      "source": [
        "c) Wind properties;\n",
        "\n",
        "Speed of the wind (m/s) and Direction of the wind (radians)"
      ]
    },
    {
      "cell_type": "code",
      "execution_count": null,
      "metadata": {
        "id": "MtrGLwXbn0pS"
      },
      "outputs": [],
      "source": [
        "wind_speed = 10\n",
        "wind_direction = math.radians(0)"
      ]
    },
    {
      "cell_type": "markdown",
      "metadata": {
        "id": "H7e4l8XHTY8w"
      },
      "source": [
        "d) Initial conditions; These are defined for\n",
        "\n",
        "Firing angle (radians), horizantal posistion(m), vertical position (m), velocity (m/s), angle (radians) and time (s). The Time step (s) is also defined."
      ]
    },
    {
      "cell_type": "code",
      "execution_count": null,
      "metadata": {
        "id": "N4G9UYU1n9XD"
      },
      "outputs": [],
      "source": [
        "firing_angle = math.radians(45)\n",
        "x = 0\n",
        "y = gun_height\n",
        "v = initial_bullet_velocity\n",
        "θ = firing_angle\n",
        "t = 0\n",
        "dt = 0.01"
      ]
    },
    {
      "cell_type": "markdown",
      "metadata": {
        "id": "27gLuXibTY8x"
      },
      "source": [
        "e) Lists to store the bullet's trajectory for plotting"
      ]
    },
    {
      "cell_type": "code",
      "execution_count": null,
      "metadata": {
        "id": "R87wiMOoTY8x"
      },
      "outputs": [],
      "source": [
        "x_values = [x]\n",
        "y_values = [y]"
      ]
    },
    {
      "cell_type": "markdown",
      "metadata": {
        "id": "2TWXbTTNTY8x"
      },
      "source": [
        "f) Target properties;\n",
        "\n",
        "Horizontal distance to the target (m) and Diameter of the target (m)"
      ]
    },
    {
      "cell_type": "code",
      "execution_count": null,
      "metadata": {
        "id": "yhI5HCcpTY8x"
      },
      "outputs": [],
      "source": [
        "target_distance = 500\n",
        "target_size = 1"
      ]
    },
    {
      "cell_type": "markdown",
      "metadata": {
        "id": "Bb0NQsQQTY8y"
      },
      "source": [
        "g) Functions"
      ]
    },
    {
      "cell_type": "markdown",
      "source": [
        "The function runge_kutta_step() is used to compute the next step in the trajectory of the bullet by using the Runge-Kutta fourth-order method, which is a common algorithm used for numerically solving ordinary differential equations.\n",
        "\n",
        "The function takes as input:\n",
        "\n",
        "t - the current time,\n",
        "dt - the time step,\n",
        "x, y - the current position of the bullet,\n",
        "v - the current velocity of the bullet,\n",
        "θ - the current angle of the bullet trajectory,\n",
        "wind_speed - the speed of the wind.\n",
        "\n",
        "Inside the function, the Runge-Kutta method is applied in the following way:\n",
        "\n",
        "1. The function calculate_derivatives() is called four times to calculate the so-called 'k' values, which are essentially estimates of the change in the variables (x, y, v, θ) over the time step dt. Each call to calculate_derivatives() uses different arguments to estimate the change at the beginning, middle, and end of the time step.\n",
        "\n",
        " - k1_x, k1_y, k1_v, k1_θ = calculate_derivatives(t, x, y, v, θ, wind_speed) - This line calculates the k1 values using the initial conditions at time t.\n",
        "\n",
        " - For k2 and k3, the estimates are calculated at the midpoint of the time interval (t + dt/2) using the initial conditions and the previous 'k' values.\n",
        "\n",
        " - For k4, the estimates are calculated at the end of the time interval (t + dt) using the initial conditions and the k3 values.\n",
        "2. The new position (x, y), velocity (v), and angle (θ) are then calculated by  adding the weighted average of the 'k' values to the initial conditions. The weighting is done according to the standard Runge-Kutta method formula, which assigns more weight to the estimates at the midpoint of the interval (k2 and k3) than to the estimates at the beginning and end of the interval (k1 and k4).\n",
        "\n",
        "3. Finally, the function returns the updated values of x, y, v, and θ.\n",
        "\n",
        "   The result is a new estimate for the bullet's position, velocity, and angle at time t + dt that is more accurate than if we simply used the initial rate of change to estimate the new values. This makes the Runge-Kutta method a powerful tool for numerically solving differential equations in cases where an exact solution cannot be easily found.\n",
        "\n",
        "\n",
        "\n",
        "\n"
      ],
      "metadata": {
        "id": "5p9DxFicUfzO"
      }
    },
    {
      "cell_type": "code",
      "execution_count": null,
      "metadata": {
        "id": "zbalg76TTY8y"
      },
      "outputs": [],
      "source": [
        "# Function to calculate the derivatives using the Runge-Kutta method\n",
        "def calculate_derivatives(t, x, y, v, θ):\n",
        "    # Calculate the wind effect\n",
        "    wind_effect = wind_speed * math.cos(wind_direction - θ)\n",
        "\n",
        "    # Calculate the derivatives of the variables\n",
        "    dxdt = v * math.cos(θ) + wind_effect\n",
        "    dydt = v * math.sin(θ)\n",
        "    dvdt = -g * math.sin(θ) - 0.5 * air_density * v**2 * bullet_drag_coefficient * bullet_area / bullet_mass\n",
        "    dθdt = -g * math.cos(θ) / v\n",
        "\n",
        "    return dxdt, dydt, dvdt, dθdt"
      ]
    },
    {
      "cell_type": "code",
      "execution_count": null,
      "metadata": {
        "id": "KCyKqw6xTY8y"
      },
      "outputs": [],
      "source": [
        "# Function to perform one step of the Runge-Kutta method\n",
        "def runge_kutta_step(t, dt, x, y, v, θ):\n",
        "    # Calculate the k1 values\n",
        "    k1_x, k1_y, k1_v, k1_θ = calculate_derivatives(t, x, y, v, θ)\n",
        "\n",
        "    # Calculate the k2 values\n",
        "    k2_x, k2_y, k2_v, k2_θ = calculate_derivatives(t + dt/2, x + k1_x*dt/2, y + k1_y*dt/2, v + k1_v*dt/2, θ + k1_θ*dt/2)\n",
        "\n",
        "    # Calculate the k3 values\n",
        "    k3_x, k3_y, k3_v, k3_θ = calculate_derivatives(t + dt/2, x + k2_x*dt/2, y + k2_y*dt/2, v + k2_v*dt/2, θ + k2_θ*dt/2)\n",
        "\n",
        "    # Calculate the k4 values\n",
        "    k4_x, k4_y, k4_v, k4_θ = calculate_derivatives(t + dt, x + k3_x*dt, y + k3_y*dt, v + k3_v*dt, θ + k3_θ*dt)\n",
        "\n",
        "    # Update the variables\n",
        "    x = x + dt * (k1_x + 2*k2_x + 2*k3_x + k4_x) / 6\n",
        "    y = y + dt * (k1_y + 2*k2_y + 2*k3_y + k4_y) / 6\n",
        "    v = v + dt * (k1_v + 2*k2_v + 2*k3_v + k4_v) / 6\n",
        "    θ = θ + dt * (k1_θ + 2*k2_θ + 2*k3_θ + k4_θ) / 6\n",
        "\n",
        "    return x, y, v, θ\n"
      ]
    },
    {
      "cell_type": "markdown",
      "metadata": {
        "id": "mItxkBGbTY8z"
      },
      "source": [
        "# 7. VALIDATION"
      ]
    },
    {
      "cell_type": "code",
      "execution_count": null,
      "metadata": {
        "id": "yIpYC1UJTY8z"
      },
      "outputs": [],
      "source": [
        "# Plot the trajectory\n",
        "plt.figure(figsize=(10, 5))\n",
        "plt.plot(x_values, y_values)\n",
        "plt.title('Bullet Trajectory')\n",
        "plt.xlabel('Distance (m)')\n",
        "plt.ylabel('Height (m)')\n",
        "plt.grid(True)\n",
        "plt.show()"
      ]
    },
    {
      "cell_type": "markdown",
      "metadata": {
        "id": "5nYUYlzzTY80"
      },
      "source": [
        "# 8. EXPERIMENTAL DESIGN\n",
        "Designing an experiment using the bullet trajectory simulation involves setting up the conditions under which the simulation will run and determining the metrics to measure. Here is a basic experimental design for the bullet trajectory simulation.\n",
        "\n",
        "8.1 Setting up parameters for the simulation\n",
        "This code is setting up several variables to be used in a simulation. Here is what each one represents:\n",
        "\n",
        "- g: This is the acceleration due to gravity, approximately\n",
        " 9.81 m/s² on the surface of the Earth.\n",
        "\n",
        "- air_density: This is the density of air at sea level at standard conditions (15 degrees Celsius and 1 atm pressure), measured in kg/m³. It is used in the calculation of the drag force experienced by the bullet.\n",
        "\n",
        "- gun_height: This represents the height at which the gun (and thus the bullet initially) is above the ground, in meters.\n",
        "\n",
        "- initial_bullet_velocity: This is the initial speed of the bullet as it leaves the muzzle of the gun, in meters per second.\n",
        "\n",
        "- bullet_mass: The mass of the bullet, in kilograms.\n",
        "\n",
        "- bullet_diameter: The diameter of the bullet, in meters.\n",
        "\n",
        "- bullet_drag_coefficient: This is a dimensionless quantity that describes the bullet's resistance to air flow. It depends on the shape of the bullet and the roughness of its surface.\n",
        "\n",
        "- target_size: The size of the target in meters. It's assumed to be a square target, so this value represents both the height and width.\n",
        "\n",
        "- bullet_area: This is the cross-sectional area of the bullet (the area of a circle with the bullet's diameter), used in the calculation of the drag force. It's calculated using the formula for the area of a circle: πr², where r is the radius of the bullet (half the diameter).\n",
        "\n",
        "- wind_speeds: This is an array of wind speeds to simulate, ranging from 0 to 20 m/s, with 10 evenly spaced values.\n",
        "\n",
        "- wind_direction: This is the direction the wind is coming from, in radians. A value of 0 means the wind is blowing directly from the left of the firing range.\n",
        "\n",
        "- firing_angles: This is an array of firing angles to simulate, ranging from 0 to 90 degrees, with 20 evenly spaced values. The angles are converted from degrees to radians because trigonometric functions in Python use radians.\n",
        "\n",
        "- dt: This is the time step used for the numerical integration, in seconds. In numerical simulations like this one, the motion is typically updated in small discrete steps rather than continuously. The smaller the time step, the more accurate the simulation (but the more computations are required).\n",
        "\n",
        "\n",
        "\n"
      ]
    },
    {
      "cell_type": "code",
      "source": [
        "#Constants\n",
        "g = 9.81\n",
        "air_density = 1.225\n",
        "\n",
        "\n",
        "# Gun and bullet properties\n",
        "gun_height = 1\n",
        "initial_bullet_velocity = 350\n",
        "bullet_mass = 0.117\n",
        "bullet_diameter = 0.009\n",
        "bullet_drag_coefficient = 0.05\n",
        "\n",
        "# Target properties\n",
        "target_size = 1\n",
        "\n",
        "# Calculate the bullet's cross-sectional area\n",
        "bullet_area = math.pi * (bullet_diameter / 2)**2\n",
        "\n",
        "# Wind properties\n",
        "wind_speeds = np.linspace(0, 20, 10)  # Range of wind speeds to simulate\n",
        "wind_direction = math.radians(0)\n",
        "\n",
        "# Firing angles to simulate\n",
        "firing_angles = np.radians(np.linspace(0, 90, 20))  # Range of firing angles to simulate\n",
        "\n",
        "# Time settings\n",
        "dt = 0.01  # Time step\n"
      ],
      "metadata": {
        "id": "V7mxS4VRxqhn"
      },
      "execution_count": null,
      "outputs": []
    },
    {
      "cell_type": "markdown",
      "source": [
        "##8.2 Functions to calculate the bullet's trajectory\n",
        "The function calculate_derivatives calculates the rate of change (derivative) of the bullet's position (x, y), velocity (v), and firing angle (θ) with respect to time (t), given the current state of these variables and the wind speed. These rates of change are needed to update the state of the system in each time step of the simulation.\n",
        "\n",
        "Here's what each line does:\n",
        "\n",
        "- wind_effect = wind_speed * math.cos(wind_direction - θ): This line calculates the effect of the wind on the horizontal motion of the bullet. The wind speed is multiplied by the cosine of the difference between the wind direction and the bullet's direction of travel. This essentially projects the wind speed onto the direction of the bullet's travel.\n",
        "\n",
        "- dxdt = v * math.cos(θ) + wind_effect: This line calculates the rate of change of the bullet's horizontal position (x) with respect to time. It's given by the horizontal component of the bullet's velocity (v * cos(θ)) plus the wind effect.\n",
        "\n",
        "- dydt = v * math.sin(θ): This line calculates the rate of change of the bullet's vertical position (y) with respect to time. It's given by the vertical component of the bullet's velocity (v * sin(θ)).\n",
        "\n",
        "- dvdt = -g * math.sin(θ) - 0.5 * air_density * v**2 * bullet_drag_coefficient * bullet_area / bullet_mass: This line calculates the rate of change of the bullet's velocity with respect to time. The first term, -g * sin(θ), represents the component of gravitational acceleration that acts in the direction of the bullet's motion. The second term represents the drag force acting on the bullet due to air resistance, divided by the bullet's mass to give the acceleration. The drag force is proportional to the square of the velocity, the air density, the bullet's drag coefficient, and the bullet's cross-sectional area.\n",
        "\n",
        "- dθdt = -g * math.cos(θ) / v: This line calculates the rate of change of the bullet's firing angle with respect to time. This rate of change is given by the gravitational acceleration acting perpendicular to the direction of the bullet's motion, divided by the bullet's speed. This represents the fact that gravity tends to bend the bullet's path downwards, changing the direction of motion.\n",
        "\n",
        "- return dxdt, dydt, dvdt, dθdt: This line returns the calculated rates of change.\n"
      ],
      "metadata": {
        "id": "ZW2siKoFxrgG"
      }
    },
    {
      "cell_type": "code",
      "source": [
        "# Function to calculate the derivatives using the Runge-Kutta method\n",
        "def calculate_derivatives(t, x, y, v, θ, wind_speed):\n",
        "    wind_effect = wind_speed * math.cos(wind_direction - θ)\n",
        "    dxdt = v * math.cos(θ) + wind_effect\n",
        "    dydt = v * math.sin(θ)\n",
        "    dvdt = -g * math.sin(θ) - 0.5 * air_density * v**2 * bullet_drag_coefficient * bullet_area / bullet_mass\n",
        "    dθdt = -g * math.cos(θ) / v\n",
        "    return dxdt, dydt, dvdt, dθdt\n"
      ],
      "metadata": {
        "id": "8YyfBR_txzxG"
      },
      "execution_count": null,
      "outputs": []
    },
    {
      "cell_type": "markdown",
      "source": [
        "##8.3 Method to solve the differential equations\n",
        "This is the completion of the ballistic simulation using the Runge-Kutta method, which is a numerical method used to solve differential equations. Here's a breakdown of what each part of the code is doing:\n",
        "\n",
        "- runge_kutta_step: This function is an implementation of the 4th order Runge-Kutta method. The purpose of this function is to take a step forward in time in the simulation.\n",
        "\n",
        "- The Runge-Kutta method is a method of numerically integrating ordinary differential equations by using a trial step at the midpoint of an interval to cancel out lower-order error terms. The 4th order Runge-Kutta method is the most common form of Runge-Kutta. Here it is applied to the system of ordinary differential equations defined by the calculate_derivatives function.\n",
        "\n",
        "- The method involves taking four \"trial\" steps at various points throughout the time interval and combining them to form an overall solution. These trial steps (k1, k2, k3, k4) are calculated by the calculate_derivatives function.\n",
        "\n",
        "- Once all four steps are calculated, the new values of x, y, v, and θ are updated using a weighted average of these steps, where the middle steps are weighted more heavily.\n",
        "\n",
        "- results and simulations lists: These are empty lists that will store the results of the simulations and the detailed simulation data for each combination of parameters respectively.\n",
        "\n",
        "- target_distances: This is a numpy array that contains evenly spaced values between 0 and 1000. These values represent the target distances that the simulation will test to see how the bullet trajectory changes. The simulation will run for each of these target distances, and for each combination of firing angle and wind speed defined earlier in the code.\n",
        "\n"
      ],
      "metadata": {
        "id": "nrJKPPMhx0OM"
      }
    },
    {
      "cell_type": "code",
      "source": [
        "def runge_kutta_step(t, dt, x, y, v, θ, wind_speed):\n",
        "    k1_x, k1_y, k1_v, k1_θ = calculate_derivatives(t, x, y, v, θ, wind_speed)\n",
        "    k2_x, k2_y, k2_v, k2_θ = calculate_derivatives(t + dt/2, x + k1_x*dt/2,\n",
        "                                                   y + k1_y*dt/2, v + k1_v*dt/2,\n",
        "                                                   θ + k1_θ*dt/2, wind_speed)\n",
        "    k3_x, k3_y, k3_v, k3_θ = calculate_derivatives(t + dt/2, x + k2_x*dt/2,\n",
        "                                                   y + k2_y*dt/2, v + k2_v*dt/2,\n",
        "                                                   θ + k2_θ*dt/2, wind_speed)\n",
        "    k4_x, k4_y, k4_v, k4_θ = calculate_derivatives(t + dt, x + k3_x*dt,\n",
        "                                                   y + k3_y*dt, v + k3_v*dt,\n",
        "                                                   θ + k3_θ*dt, wind_speed)\n",
        "\n",
        "    x = x + dt * (k1_x + 2*k2_x + 2*k3_x + k4_x) / 6\n",
        "    y = y + dt * (k1_y + 2*k2_y + 2*k3_y + k4_y) / 6\n",
        "    v = v + dt * (k1_v + 2*k2_v + 2*k3_v + k4_v) / 6\n",
        "    θ = θ + dt * (k1_θ + 2*k2_θ + 2*k3_θ + k4_θ) / 6\n",
        "\n",
        "    return x, y, v, θ\n",
        "\n",
        "# Define a list to store the results and a list to store the simulations\n",
        "results = []\n",
        "simulations = []\n",
        "\n",
        "# Target distances to simulate\n",
        "target_distances = np.linspace(0, 1000, 100)  # From 0 to 1000 meters"
      ],
      "metadata": {
        "id": "SMCamiwfx0jT"
      },
      "execution_count": null,
      "outputs": []
    },
    {
      "cell_type": "markdown",
      "source": [
        "8.4 Store the trajectory of the bullet\n",
        "This is the main part of the simulation where it's iterating over all combinations of firing angles, wind speeds, and target distances to determine the trajectory of the bullet and whether it hits the target.\n",
        "\n",
        "Here's a breakdown of the code:\n",
        "\n",
        "- The outer three loops iterate over every combination of firing angle (θ), wind speed (wind), and target distance (target_distance).\n",
        "\n",
        "- For each combination, it sets x and y to be the initial bullet position, v to be the initial bullet velocity, θ_temp to be the current firing angle, and t to be the start time.\n",
        "\n",
        "- Two empty lists (x_array and y_array) are created to hold the trajectory of the bullet.\n",
        "\n",
        "- The while loop runs the simulation for the given parameters. As long as y (the vertical position of the bullet) is greater than 0 (indicating the bullet is still in the air), it uses the runge_kutta_step function to update x, y, v, and θ_temp at each time step.\n",
        "\n",
        "- The current x and y positions are appended to x_array and y_array to keep track of the bullet's trajectory.\n",
        "\n",
        "- The if statement checks whether the bullet has hit the target. It considers a hit if the bullet is within the target's width (centered at target_distance) and within the target's height (from y=0 to y=target_size). If the bullet has hit the target, it calculates the impact force (impact_force) based on a simplified formula, assuming the change in momentum happens over a very small time period (delta_t). It then appends a dictionary to the results list that contains the parameters of the simulation and the calculated impact force.\n",
        "\n",
        "- It also appends a dictionary to the simulations list that contains the parameters and the full trajectory of the bullet for that simulation (using x_array and y_array).\n",
        "\n",
        "- Finally, if the bullet hasn't hit the target, it increments the time t by the time step dt and proceeds to the next iteration of the simulation.\n",
        "\n",
        "\n"
      ],
      "metadata": {
        "id": "N7RFA2N6x04u"
      }
    },
    {
      "cell_type": "code",
      "source": [
        "for θ in firing_angles:\n",
        "    for wind in wind_speeds:\n",
        "        for target_distance in target_distances:\n",
        "            x, y = 0, gun_height\n",
        "            v = initial_bullet_velocity\n",
        "            θ_temp = θ  # The firing angle\n",
        "            t = 0  # Start time\n",
        "\n",
        "            # Variables to store the trajectory of the bullet\n",
        "            x_array = []\n",
        "            y_array = []\n",
        "\n",
        "            while y >= 0:\n",
        "                x, y, v, θ_temp = runge_kutta_step(t, dt, x, y, v, θ_temp, wind)\n",
        "\n",
        "                # Append the current x and y values to the trajectory arrays\n",
        "                x_array.append(x)\n",
        "                y_array.append(y)\n",
        "\n",
        "                if target_distance - target_size/2 <= x <= target_distance + target_size/2 and 0 <= y <= target_size:\n",
        "                    delta_t = 0.001\n",
        "                    delta_p = bullet_mass * v\n",
        "                    impact_force = delta_p / delta_t\n",
        "                    results.append({\n",
        "                        'firing_angle': θ,\n",
        "                        'wind_speed': wind,\n",
        "                        'target_distance': target_distance,\n",
        "                        'impact_force': impact_force\n",
        "                    })\n",
        "\n",
        "                    # Store the trajectory for this simulation\n",
        "                    simulations.append({\n",
        "                        'firing_angle': θ,\n",
        "                        'wind_speed': wind,\n",
        "                        'target_distance': target_distance,\n",
        "                        'x': x_array,\n",
        "                        'y': y_array\n",
        "                    })\n",
        "                    break\n",
        "                t = t + dt  # Update the time\n",
        "\n"
      ],
      "metadata": {
        "id": "PD3_zb6vx1SF"
      },
      "execution_count": null,
      "outputs": []
    },
    {
      "cell_type": "markdown",
      "source": [
        "8.5 Find the result with the highest impact force and  Filter the results and the simulations to only include those within a 50% range of the maximum conditions"
      ],
      "metadata": {
        "id": "D9OcWTBCF3AF"
      }
    },
    {
      "cell_type": "code",
      "source": [
        "# Find the result with the highest impact force\n",
        "max_force_result = max(results, key=lambda r: r['impact_force'])\n",
        "\n",
        "# Filter the results and the simulations to only include those within a 50% range of the maximum conditions\n",
        "filtered_results = [data for data in results if data['impact_force'] > 0.5 * max_force_result['impact_force']]\n"
      ],
      "metadata": {
        "id": "uMn8hLGfF3d-"
      },
      "execution_count": null,
      "outputs": []
    },
    {
      "cell_type": "markdown",
      "source": [
        "# 8.6 Plotting the results\n",
        "This code is using the matplotlib library to generate three scatter plots that visualize how the impact force of the bullet is related to the firing angle, wind speed, and target distance.\n",
        "\n",
        "Here's a breakdown of the code:\n",
        "\n",
        "- fig, axs = plt.subplots(3, 1, figsize=(10, 15)): This creates a figure object (fig) and an array of three subplot axes (axs) arranged in 3 rows and 1 column. The size of the figure is set to be 10 inches wide and 15 inches tall.\n",
        "\n",
        "- axs[0].scatter(firing_angles_filtered, impact_forces_filtered): This creates a scatter plot on the first subplot (index 0) with the firing angles on the x-axis and the corresponding impact forces on the y-axis.\n",
        "\n",
        "- axs[0].set_xlabel('Firing angle (degrees)'): This sets the x-axis label of the first subplot to 'Firing angle (degrees)'.\n",
        "\n",
        "- axs[0].set_ylabel('Impact force (N)'): This sets the y-axis label of the first subplot to 'Impact force (N)'.\n",
        "\n",
        "- axs[0].set_title('Firing angle vs Impact force'): This sets the title of the first subplot to 'Firing angle vs Impact force'.\n",
        "\n",
        "- The subsequent lines do the same for the second subplot (axs[1]), which is a scatter plot of wind speed versus impact force, and the third subplot (axs[2]), which is a scatter plot of target distance versus impact force.\n",
        "\n",
        "- plt.tight_layout(): This adjusts the positions of the subplots so that there is sufficient space for the plot labels.\n",
        "\n",
        "- plt.show(): This displays the figure with the three subplots.\n"
      ],
      "metadata": {
        "id": "MZJu5XAex1rB"
      }
    },
    {
      "cell_type": "code",
      "source": [
        "# Create plots\n",
        "fig, axs = plt.subplots(3, 1, figsize=(10, 15))\n",
        "\n",
        "# Firing angle vs impact force\n",
        "axs[0].scatter(firing_angles_filtered, impact_forces_filtered)\n",
        "axs[0].set_xlabel('Firing angle (degrees)')\n",
        "axs[0].set_ylabel('Impact force (N)')\n",
        "axs[0].set_title('Firing angle vs Impact force')\n",
        "\n",
        "# Wind speed vs impact force\n",
        "axs[1].scatter(wind_speeds_filtered, impact_forces_filtered)\n",
        "axs[1].set_xlabel('Wind speed (m/s)')\n",
        "axs[1].set_ylabel('Impact force (N)')\n",
        "axs[1].set_title('Wind speed vs Impact force')\n",
        "\n",
        "# Target distance vs impact force\n",
        "axs[2].scatter(target_distances_filtered, impact_forces_filtered)\n",
        "axs[2].set_xlabel('Target distance (m)')\n",
        "axs[2].set_ylabel('Impact force (N)')\n",
        "axs[2].set_title('Target distance vs Impact force')\n",
        "\n",
        "# Display plots\n",
        "plt.tight_layout()\n",
        "plt.show()"
      ],
      "metadata": {
        "id": "oDgUgD7gx1-_"
      },
      "execution_count": null,
      "outputs": []
    },
    {
      "cell_type": "markdown",
      "source": [
        "## 8.7 Display maximum impact force of a certain firing angle, wind speed, target distance"
      ],
      "metadata": {
        "id": "cBBE98LnHKSN"
      }
    },
    {
      "cell_type": "code",
      "source": [
        "print(f\"The highest impact force was {max_force_result['impact_force']} N.\")\n",
        "print(f\"It was achieved with a firing angle of {math.degrees(max_force_result['firing_angle'])} degrees, a wind speed of {max_force_result['wind_speed']} m/s, and a target distance of {max_force_result['target_distance']} m.\")"
      ],
      "metadata": {
        "id": "ZPAbBv2SIIzD"
      },
      "execution_count": null,
      "outputs": []
    },
    {
      "cell_type": "markdown",
      "metadata": {
        "id": "H-4rPAqYTY80"
      },
      "source": [
        "# 9. PRODUCTION RUNS AND ANALYSIS\n",
        "\n",
        "#### First set of graphs\n",
        "firing angle (degrees) against impact force\n",
        "\n",
        "#### Second set of graphs\n",
        "wind speed (m/s) against impact force\n",
        "\n",
        "#### Third set of graphs\n",
        "target distance against impact force"
      ]
    },
    {
      "cell_type": "markdown",
      "source": [
        "# 11. REFERENCES\n",
        "\n",
        "Glock. (2020, March 17). Wikipedia. https://en.wikipedia.org/wiki/Glock\n",
        "\n",
        "Kinematics equations. (2022, October 27). Wikipedia. https://en.wikipedia.org/wiki/Kinematics_equations\n",
        "\n",
        "Carlucci, D. (2008). ‌‌Ballistics Theory and Design of Guns and Ammunition. Taylor & Francis Group, LLC"
      ],
      "metadata": {
        "id": "uYLmQkL0UZ10"
      }
    },
    {
      "cell_type": "code",
      "source": [],
      "metadata": {
        "id": "-1IWxN-hUjbF"
      },
      "execution_count": null,
      "outputs": []
    }
  ],
  "metadata": {
    "colab": {
      "provenance": [],
      "toc_visible": true,
      "include_colab_link": true
    },
    "kernelspec": {
      "display_name": "Python 3",
      "name": "python3"
    },
    "language_info": {
      "name": "python"
    }
  },
  "nbformat": 4,
  "nbformat_minor": 0
}