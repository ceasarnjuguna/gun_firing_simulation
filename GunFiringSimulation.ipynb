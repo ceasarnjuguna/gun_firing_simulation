{
  "cells": [
    {
      "attachments": {},
      "cell_type": "markdown",
      "metadata": {},
      "source": [
        "1. PROBLEM FORMULATION\n",
        "\n",
        "The problem statement here"
      ]
    },
    {
      "attachments": {},
      "cell_type": "markdown",
      "metadata": {},
      "source": [
        "2. OBJECTIVES AND OVERALL PROJECT PLAN\n",
        "\n",
        "2.1 Objectives/ Questions to be answered by system\n",
        "\n",
        "1...\n",
        "\n",
        "2....\n",
        "\n",
        "\n",
        "2.2 Project Plan\n",
        "\n",
        "  2.2.1 //state the alternative systems and methods of evaluating them....//\n",
        "\n",
        "  2.2.2 Project team\n",
        "\n",
        "The group doing this study involved the following;\n",
        "\n",
        "Shirley Mbeyu Ddaiddo\n",
        "\n",
        "Allan Errissat Okedo\n",
        "\n",
        "Marion Cheruyotich Kipsang\n",
        "\n",
        "Ceaser Njuguna Ngunu\n",
        "\n",
        "Ashley Mbeke Muoki\n",
        "\n",
        "\n",
        "  2.2.3 Cost of the study\n",
        "\n",
        "//fill here, probably a budget type of thing//\n",
        "\n",
        "\n",
        "  2.2.4 //No of days required to accomplish each phase with anticipated results//\n"
      ]
    },
    {
      "attachments": {},
      "cell_type": "markdown",
      "metadata": {},
      "source": [
        "3. MODEL CONCEPTUALIZATION\n",
        "\n",
        "3.1 //Enhance essential features of the problem//\n",
        "\n",
        "3.2 Assumptions\n",
        "\n",
        "1...\n",
        "\n",
        "2..."
      ]
    },
    {
      "attachments": {},
      "cell_type": "markdown",
      "metadata": {},
      "source": [
        "4. DATA COLLECTION\n",
        "\n",
        "//where is the data coming from//"
      ]
    },
    {
      "attachments": {},
      "cell_type": "markdown",
      "metadata": {},
      "source": [
        "5. MODEL TRANSLATION\n",
        "\n",
        "This simulation is using python programming language and its related libraries as follows;"
      ]
    },
    {
      "cell_type": "code",
      "execution_count": null,
      "metadata": {
        "id": "rgdcl8x05ceT"
      },
      "outputs": [],
      "source": [
        "import math\n",
        "import matplotlib.pyplot as plt\n"
      ]
    },
    {
      "attachments": {},
      "cell_type": "markdown",
      "metadata": {},
      "source": [
        "6. VERIFICATION\n",
        "\n",
        "Chceking whether input parameters and logical structures are correctly represented."
      ]
    },
    {
      "attachments": {},
      "cell_type": "markdown",
      "metadata": {},
      "source": [
        "a) Constants; \n",
        "\n",
        "Acceleration due to gravity (m/s^2) and air density at sea level and 15 degrees Celsius (kg/m^3)"
      ]
    },
    {
      "cell_type": "code",
      "execution_count": null,
      "metadata": {
        "id": "3SDPEqsenSLf"
      },
      "outputs": [],
      "source": [
        "g = 9.81 \n",
        "air_density = 1.225 "
      ]
    },
    {
      "attachments": {},
      "cell_type": "markdown",
      "metadata": {},
      "source": [
        "b) Gun and bullet properties;\n",
        "\n",
        "Height of the gun (m), initial speed of the bullet (m/s), mass of the bullet (kg), diameter of the bullet (m) and drag coefficient of the bullet (dimensionless). Finally, bullet's cross-sectional area is calculated. "
      ]
    },
    {
      "cell_type": "code",
      "execution_count": null,
      "metadata": {
        "id": "vvP5nDNankxU"
      },
      "outputs": [],
      "source": [
        "gun_height = 1  \n",
        "initial_bullet_velocity = 350 \n",
        "bullet_mass = 0.007  \n",
        "bullet_diameter = 0.009  \n",
        "bullet_drag_coefficient = 0.05  \n",
        "bullet_area = math.pi * (bullet_diameter / 2)**2"
      ]
    },
    {
      "attachments": {},
      "cell_type": "markdown",
      "metadata": {},
      "source": [
        "c) Wind properties;\n",
        "\n",
        "Speed of the wind (m/s) and Direction of the wind (radians)"
      ]
    },
    {
      "cell_type": "code",
      "execution_count": null,
      "metadata": {
        "id": "MtrGLwXbn0pS"
      },
      "outputs": [],
      "source": [
        "wind_speed = 10  \n",
        "wind_direction = math.radians(0)  "
      ]
    },
    {
      "attachments": {},
      "cell_type": "markdown",
      "metadata": {},
      "source": [
        "d) Initial conditions; These are defined for\n",
        "\n",
        "Firing angle (radians), horizantal posistion(m), vertical position (m), velocity (m/s), angle (radians) and time (s). The Time step (s) is also defined."
      ]
    },
    {
      "cell_type": "code",
      "execution_count": null,
      "metadata": {
        "id": "N4G9UYU1n9XD"
      },
      "outputs": [],
      "source": [
        "firing_angle = math.radians(45) \n",
        "x = 0 \n",
        "y = gun_height \n",
        "v = initial_bullet_velocity \n",
        "θ = firing_angle  \n",
        "t = 0  \n",
        "dt = 0.01 "
      ]
    },
    {
      "attachments": {},
      "cell_type": "markdown",
      "metadata": {},
      "source": [
        "e) Lists to store the bullet's trajectory for plotting"
      ]
    },
    {
      "cell_type": "code",
      "execution_count": null,
      "metadata": {},
      "outputs": [],
      "source": [
        "x_values = [x]\n",
        "y_values = [y]"
      ]
    },
    {
      "attachments": {},
      "cell_type": "markdown",
      "metadata": {},
      "source": [
        "f) Target properties; \n",
        "\n",
        "Horizontal distance to the target (m) and Diameter of the target (m)"
      ]
    },
    {
      "cell_type": "code",
      "execution_count": null,
      "metadata": {},
      "outputs": [],
      "source": [
        "target_distance = 500  \n",
        "target_size = 1  "
      ]
    },
    {
      "attachments": {},
      "cell_type": "markdown",
      "metadata": {},
      "source": [
        "g) Functions"
      ]
    },
    {
      "cell_type": "code",
      "execution_count": null,
      "metadata": {},
      "outputs": [],
      "source": [
        "# Function to calculate the derivatives using the Runge-Kutta method\n",
        "def calculate_derivatives(t, x, y, v, θ):\n",
        "    # Calculate the wind effect\n",
        "    wind_effect = wind_speed * math.cos(wind_direction - θ)\n",
        "\n",
        "    # Calculate the derivatives of the variables\n",
        "    dxdt = v * math.cos(θ) + wind_effect\n",
        "    dydt = v * math.sin(θ)\n",
        "    dvdt = -g * math.sin(θ) - 0.5 * air_density * v**2 * bullet_drag_coefficient * bullet_area / bullet_mass\n",
        "    dθdt = -g * math.cos(θ) / v\n",
        "\n",
        "    return dxdt, dydt, dvdt, dθdt"
      ]
    },
    {
      "cell_type": "code",
      "execution_count": null,
      "metadata": {},
      "outputs": [],
      "source": [
        "# Function to perform one step of the Runge-Kutta method\n",
        "def runge_kutta_step(t, dt, x, y, v, θ):\n",
        "    # Calculate the k1 values\n",
        "    k1_x, k1_y, k1_v, k1_θ = calculate_derivatives(t, x, y, v, θ)\n",
        "\n",
        "    # Calculate the k2 values\n",
        "    k2_x, k2_y, k2_v, k2_θ = calculate_derivatives(t + dt/2, x + k1_x*dt/2, y + k1_y*dt/2, v + k1_v*dt/2, θ + k1_θ*dt/2)\n",
        "\n",
        "    # Calculate the k3 values\n",
        "    k3_x, k3_y, k3_v, k3_θ = calculate_derivatives(t + dt/2, x + k2_x*dt/2, y + k2_y*dt/2, v + k2_v*dt/2, θ + k2_θ*dt/2)\n",
        "\n",
        "    # Calculate the k4 values\n",
        "    k4_x, k4_y, k4_v, k4_θ = calculate_derivatives(t + dt, x + k3_x*dt, y + k3_y*dt, v + k3_v*dt, θ + k3_θ*dt)\n",
        "\n",
        "    # Update the variables\n",
        "    x = x + dt * (k1_x + 2*k2_x + 2*k3_x + k4_x) / 6\n",
        "    y = y + dt * (k1_y + 2*k2_y + 2*k3_y + k4_y) / 6\n",
        "    v = v + dt * (k1_v + 2*k2_v + 2*k3_v + k4_v) / 6\n",
        "    θ = θ + dt * (k1_θ + 2*k2_θ + 2*k3_θ + k4_θ) / 6\n",
        "\n",
        "    return x, y, v, θ\n"
      ]
    },
    {
      "attachments": {},
      "cell_type": "markdown",
      "metadata": {},
      "source": [
        "6 b) Model training"
      ]
    },
    {
      "cell_type": "code",
      "execution_count": null,
      "metadata": {},
      "outputs": [],
      "source": [
        "while y > 0:\n",
        "    x, y, v, θ = runge_kutta_step(t, dt, x, y, v, θ)\n",
        "    t = t + dt\n",
        "\n",
        "    # Check if the bullet hits the target\n",
        "    if target_distance - target_size/2 <= x <= target_distance + target_size/2 and y <= target_size:\n",
        "        # Calculate the impact force\n",
        "        delta_t = 0.001  # Assumed stopping time in seconds\n",
        "        delta_p = bullet_mass * v  # Change in momentum\n",
        "        impact_force = delta_p / delta_t  # Impact force\n",
        "        print(f\"The bullet covered a distance of {x} m and hit the target with an impact force of {impact_force} N!\")\n",
        "        break\n",
        "\n",
        "    # Store the position for plotting\n",
        "    x_values.append(x)\n",
        "    y_values.append(y)\n",
        "\n",
        "if y > 0:\n",
        "    print(\"The bullet missed the target.\")\n",
        "else:\n",
        "    print(f\"The bullet covered a distance of {x} m before hitting the ground.\")"
      ]
    },
    {
      "attachments": {},
      "cell_type": "markdown",
      "metadata": {},
      "source": [
        "7. VALIDATION"
      ]
    },
    {
      "cell_type": "code",
      "execution_count": null,
      "metadata": {},
      "outputs": [],
      "source": [
        "# Plot the trajectory\n",
        "plt.figure(figsize=(10, 5))\n",
        "plt.plot(x_values, y_values)\n",
        "plt.title('Bullet Trajectory')\n",
        "plt.xlabel('Distance (m)')\n",
        "plt.ylabel('Height (m)')\n",
        "plt.grid(True)\n",
        "plt.show()"
      ]
    },
    {
      "attachments": {},
      "cell_type": "markdown",
      "metadata": {},
      "source": [
        "8. EXPERIMENTAL DESIGN\n",
        "\n",
        "//The alternatives to be simulated are determined and must be as a function 'runs'//"
      ]
    },
    {
      "attachments": {},
      "cell_type": "markdown",
      "metadata": {},
      "source": [
        "9. PRODUCTION RUNS AND ANALYSIS"
      ]
    },
    {
      "attachments": {},
      "cell_type": "markdown",
      "metadata": {},
      "source": [
        "10. MORE RUNS\n",
        "\n",
        "from the above findings, are more runs needed?"
      ]
    },
    {
      "attachments": {},
      "cell_type": "markdown",
      "metadata": {},
      "source": [
        "11. DOCUMENTATION AND REPORTING\n",
        "\n",
        "This notebook will serve as a process documentation"
      ]
    }
  ],
  "metadata": {
    "colab": {
      "provenance": []
    },
    "kernelspec": {
      "display_name": "Python 3",
      "name": "python3"
    },
    "language_info": {
      "name": "python"
    }
  },
  "nbformat": 4,
  "nbformat_minor": 0
}
